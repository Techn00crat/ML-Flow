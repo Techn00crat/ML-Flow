{
 "cells": [
  {
   "cell_type": "markdown",
   "id": "9f17f54c",
   "metadata": {},
   "source": [
    "## MLFLOW Tracking Server"
   ]
  },
  {
   "cell_type": "code",
   "execution_count": 1,
   "id": "614d1a92",
   "metadata": {},
   "outputs": [],
   "source": [
    "import mlflow"
   ]
  },
  {
   "cell_type": "code",
   "execution_count": 2,
   "id": "4faa329e",
   "metadata": {},
   "outputs": [],
   "source": [
    "mlflow.set_tracking_uri(\"http://127.0.0.1:5000\")"
   ]
  },
  {
   "cell_type": "code",
   "execution_count": 3,
   "id": "b382961d",
   "metadata": {},
   "outputs": [
    {
     "name": "stdout",
     "output_type": "stream",
     "text": [
      "🏃 View run handsome-asp-820 at: http://127.0.0.1:5000/#/experiments/841633000170270801/runs/cfe9a6dd308c43c7b7159f6bb44825e1\n",
      "🧪 View experiment at: http://127.0.0.1:5000/#/experiments/841633000170270801\n"
     ]
    }
   ],
   "source": [
    "mlflow.set_experiment(\"Check Local Host Connection\")\n",
    "\n",
    "with mlflow.start_run():\n",
    "    mlflow.log_metric(\"Test\", 1)\n",
    "    mlflow.log_metric(\"Om\", 2)"
   ]
  },
  {
   "cell_type": "code",
   "execution_count": 4,
   "id": "49b960bc",
   "metadata": {},
   "outputs": [
    {
     "name": "stdout",
     "output_type": "stream",
     "text": [
      "🏃 View run dapper-stag-707 at: http://127.0.0.1:5000/#/experiments/841633000170270801/runs/237cbff7a4a34d059b134eb6db77b5f1\n",
      "🧪 View experiment at: http://127.0.0.1:5000/#/experiments/841633000170270801\n"
     ]
    }
   ],
   "source": [
    "with mlflow.start_run():\n",
    "    mlflow.log_metric(\"Test1\", 1)\n",
    "    mlflow.log_metric(\"Om1\", 2)"
   ]
  },
  {
   "cell_type": "code",
   "execution_count": 5,
   "id": "c1911dbd",
   "metadata": {},
   "outputs": [
    {
     "name": "stdout",
     "output_type": "stream",
     "text": [
      "🏃 View run fearless-moose-19 at: http://127.0.0.1:5000/#/experiments/841633000170270801/runs/5151ba43efcd43ec897dcd45d17d9883\n",
      "🧪 View experiment at: http://127.0.0.1:5000/#/experiments/841633000170270801\n"
     ]
    }
   ],
   "source": [
    "with mlflow.start_run():\n",
    "    mlflow.log_metric(\"Test2\", 1)\n",
    "    mlflow.log_metric(\"Om2\", 2)"
   ]
  }
 ],
 "metadata": {
  "kernelspec": {
   "display_name": "Python 3",
   "language": "python",
   "name": "python3"
  },
  "language_info": {
   "codemirror_mode": {
    "name": "ipython",
    "version": 3
   },
   "file_extension": ".py",
   "mimetype": "text/x-python",
   "name": "python",
   "nbconvert_exporter": "python",
   "pygments_lexer": "ipython3",
   "version": "3.10.0"
  }
 },
 "nbformat": 4,
 "nbformat_minor": 5
}
